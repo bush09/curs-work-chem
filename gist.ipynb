{
 "cells": [
  {
   "cell_type": "code",
   "execution_count": 3,
   "metadata": {},
   "outputs": [],
   "source": [
    "%matplotlib inline\n",
    "import sys\n",
    "import os\n",
    "import os.path\n",
    "import pickle\n",
    "\n",
    "import numpy as np\n",
    "import pandas as pd\n",
    "\n",
    "import matplotlib\n",
    "from matplotlib import pyplot as plt"
   ]
  },
  {
   "cell_type": "code",
   "execution_count": 33,
   "metadata": {},
   "outputs": [],
   "source": [
    "X = pd.read_csv('data/cox2/cox2_matrix_alphabet_NNdbr_UpTo5chains.csv', sep = ',')\n",
    "Y = pd.read_csv('data/cox2/cox2_y.csv', sep = ',', usecols=[0])\n",
    "header =X.columns\n",
    "X = X.to_numpy()\n",
    "Y = Y.to_numpy()\n",
    "\n",
    "yl = list()\n",
    "for i in range(Y.shape[0]):\n",
    "    yl.append(Y[i][0])\n",
    "\n",
    "Data = np.column_stack((X, Y[:, 0])) \n",
    "#data_train, data_test= train_test_split(Data, test_size = 0.5, random_state = 3)\n",
    "\n",
    "#train_x = data_train[:, 0:274]\n",
    "#train_y = data_train[:, 274]\n",
    "#test_x = data_test[:, 0:274]\n",
    "#test_y = data_test[:, 274]\n",
    "data = X\n",
    "y = np.array(yl) "
   ]
  },
  {
   "cell_type": "code",
   "execution_count": 34,
   "metadata": {
    "scrolled": true
   },
   "outputs": [
    {
     "data": {
      "image/png": "[encoded data removed]",
      "text/plain": [
       "<Figure size 432x288 with 1 Axes>"
      ]
     },
     "metadata": {
      "needs_background": "light"
     },
     "output_type": "display_data"
    }
   ],
   "source": [
    "plt.hist(y, bins=8)  # arguments are passed to np.histogram\n",
    "plt.title(\"Histogram for cox2\")\n",
    "#Text(0.5, 1.0, \"Histogram with 'auto' bins\")\n",
    "plt.savefig('hist_cox2_8')\n",
    "plt.show()\n"
   ]
  },
  {
   "cell_type": "code",
   "execution_count": null,
   "metadata": {},
   "outputs": [],
   "source": []
  }
 ],
 "metadata": {
  "kernelspec": {
   "display_name": "Python 3",
   "language": "python",
   "name": "python3"
  },
  "language_info": {
   "codemirror_mode": {
    "name": "ipython",
    "version": 3
   },
   "file_extension": ".py",
   "mimetype": "text/x-python",
   "name": "python",
   "nbconvert_exporter": "python",
   "pygments_lexer": "ipython3",
   "version": "3.6.9"
  }
 },
 "nbformat": 4,
 "nbformat_minor": 2
}
