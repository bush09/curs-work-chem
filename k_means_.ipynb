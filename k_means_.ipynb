{
 "cells": [
  {
   "cell_type": "code",
   "execution_count": 2,
   "metadata": {},
   "outputs": [],
   "source": [
    "%matplotlib inline\n",
    "import sys\n",
    "import os\n",
    "import os.path\n",
    "import pickle\n",
    "\n",
    "import numpy as np\n",
    "import pandas as pd\n",
    "from sklearn import datasets\n",
    "from sklearn.cluster import KMeans\n",
    "import matplotlib\n",
    "from matplotlib import pyplot as plt"
   ]
  },
  {
   "cell_type": "code",
   "execution_count": 3,
   "metadata": {},
   "outputs": [],
   "source": [
    "X = pd.read_csv('data/cox2/cox2_matrix_alphabet_NNdbr_UpTo3chains.csv', sep = ',')\n",
    "Y = pd.read_csv('data/cox2/cox2_y.csv', sep = ',', usecols=[0])\n",
    "header =X.columns\n",
    "X = X.to_numpy()\n",
    "Y = Y.to_numpy()\n",
    "\n",
    "yl = list()\n",
    "for i in range(Y.shape[0]):\n",
    "    yl.append(Y[i][0])\n",
    "\n",
    "Data = np.column_stack((X, Y[:, 0])) \n",
    "#data_train, data_test= train_test_split(Data, test_size = 0.5, random_state = 3)\n",
    "\n",
    "#train_x = data_train[:, 0:274]\n",
    "#train_y = data_train[:, 274]\n",
    "#test_x = data_test[:, 0:274]\n",
    "#test_y = data_test[:, 274]\n",
    "data = X\n",
    "y = np.array(yl) "
   ]
  },
  {
   "cell_type": "code",
   "execution_count": 12,
   "metadata": {},
   "outputs": [
    {
     "name": "stdout",
     "output_type": "stream",
     "text": [
      "[2 2 2 2 2 2 2 2 1 1 1 1 1 2 1 1 1 1 2 2 2 2 2 2 2 2 1 2 2 2 2 2 2 1 2 2 2\n",
      " 2 2 2 2 2 2 2 1 2 2 2 2 2 2 2 2 2 2 2 2 5 2 2 2 2 2 2 2 2 2 2 2 1 2 2 2 2\n",
      " 2 2 2 2 2 2 2 2 2 2 2 2 2 2 2 2 1 2 1 1 2 2 2 2 2 2 2 2 2 2 2 2 2 2 2 2 2\n",
      " 1 2 2 2 2 2 1 1 1 2 2 2 2 2 2 1 2 2 2 2 2 3 2 3 2 2 2 2 2 3 1 2 2 3 5 1 1\n",
      " 2 2 2 2 2 2 2 2 2 2 2 2 2 2 2 3 2 2 2 2 2 2 2 2 2 2 0 0 0 0 0 0 0 5 0 0 0\n",
      " 0 0 0 0 5 0 0 0 1 1 0 0 0 0 0 0 0 0 0 0 0 0 0 0 0 0 0 0 0 0 0 4 4 4 1 4 4\n",
      " 4 4 4 4 4 4 4 4 4 1 4 4 4 4 4 4 4 4 4 4 4 4 4 4 4 4 4 4 4 4 4 4 4 4 4 4 1\n",
      " 1 4 4 3 4 2 2 2 2 2 2 2 2 2 2 2 2 1 2 2 2 2 2 2 2 2 1 2 2 2 2 2 2 2 2 2 2\n",
      " 1 2 2 1 2 3 1 1 3 2 2 2 2 2 1 2 1 5 4 2 1 1 2 2 2 2 2 2 1 2 2 2 2 5 2 2 2\n",
      " 2 1 2 3 2 2 2 3 2 2 2 1 2 2 2 2 1 1 1 1 1 2 2 2 5 2 2 3 3 5 2 2 2 2 2 2 2\n",
      " 2 2 2 2 0 0 0 0 0 0 0 0 0 0 0 0 0 0 0 0 0 0 0 0 0 0 0 0 0 0 0 0 0 0 1 0 0\n",
      " 4 4 4 2 4 4 2 4 3 4 4 4 4 4 4 4 4 4 4 4 4 4 4 1 4 4 4 1 4 4 4 4 4 4 4 4 4\n",
      " 4 4 2 2 1 1 1 4 2 2 2 2 2 2 0 4 0 4 4 4 4 4 1]\n"
     ]
    },
    {
     "data": {
      "text/plain": [
       "(467,)"
      ]
     },
     "execution_count": 12,
     "metadata": {},
     "output_type": "execute_result"
    }
   ],
   "source": [
    "model = KMeans(n_clusters=6)\n",
    "\n",
    "# Проводим моделирование\n",
    "model.fit(Data)\n",
    "\n",
    "all_predictions = model.predict(Data)\n",
    "\n",
    "# Выводим предсказания\n",
    "print(all_predictions)\n",
    "all_predictions.shape"
   ]
  },
  {
   "cell_type": "code",
   "execution_count": 13,
   "metadata": {},
   "outputs": [
    {
     "data": {
      "image/png": "[encoded data removed]",
      "text/plain": [
       "<Figure size 432x288 with 1 Axes>"
      ]
     },
     "metadata": {
      "needs_background": "light"
     },
     "output_type": "display_data"
    }
   ],
   "source": [
    "y_axis = np.linspace(0, 466, 467) \n",
    "plt.scatter(y_axis,all_predictions)\n",
    "plt.savefig('k-means-6')\n",
    "plt.show()"
   ]
  },
  {
   "cell_type": "code",
   "execution_count": null,
   "metadata": {},
   "outputs": [],
   "source": []
  }
 ],
 "metadata": {
  "kernelspec": {
   "display_name": "Python 3",
   "language": "python",
   "name": "python3"
  },
  "language_info": {
   "codemirror_mode": {
    "name": "ipython",
    "version": 3
   },
   "file_extension": ".py",
   "mimetype": "text/x-python",
   "name": "python",
   "nbconvert_exporter": "python",
   "pygments_lexer": "ipython3",
   "version": "3.6.9"
  }
 },
 "nbformat": 4,
 "nbformat_minor": 2
}
